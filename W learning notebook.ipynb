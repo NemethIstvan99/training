{
    "cells": [
        {
            "metadata": {},
            "cell_type": "markdown",
            "source": "#Description\nTeszt notebook a jelenl\u00e9ti \u00edvekkel"
        },
        {
            "metadata": {},
            "cell_type": "code",
            "source": "\n// @hidden_cell\nlazy val credentials1 = scala.collection.mutable.HashMap[String, String](\n    \"IBM_API_KEY_ID\"->\"WL0ftdy7vGvfPuS0cD2js-9h-RLTVC16qAdhdplQulOt\",\n    \"IAM_SERVICE_ID\"->\"iam-ServiceId-20539123-ca43-41d8-9112-bcf202b57bae\",\n    \"ENDPOINT\"->\"https://s3.eu-geo.objectstorage.service.networklayer.com\",\n    \"IBM_AUTH_ENDPOINT\"->\"https://iam.cloud.ibm.com/oidc/token\",\n    \"BUCKET\"->\"courserawlearningtestproject-donotdelete-pr-yxa5cog683xa4v\",\n    \"FILE\"->\"Sziget_BF_2020.03.19-2020.04.17.xlsx\"\n)\n",
            "execution_count": null,
            "outputs": []
        }
    ],
    "metadata": {
        "kernelspec": {
            "name": "scala",
            "display_name": "Scala 2.11 with Spark",
            "language": "scala"
        },
        "language_info": {
            "mimetype": "text/x-scala",
            "name": "scala",
            "pygments_lexer": "scala",
            "version": "2.11.12",
            "file_extension": ".scala",
            "codemirror_mode": "text/x-scala"
        }
    },
    "nbformat": 4,
    "nbformat_minor": 1
}